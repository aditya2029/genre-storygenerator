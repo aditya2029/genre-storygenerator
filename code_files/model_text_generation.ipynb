{
 "cells": [
  {
   "cell_type": "code",
   "execution_count": 1,
   "metadata": {
    "collapsed": false
   },
   "outputs": [
   ],
   "source": [
    "import pandas as pd\n",
    "import numpy as np\n",
    "import matplotlib.pyplot as plt\n",
    "import seaborn as sns\n",
    "import warnings\n",
    "warnings.filterwarnings(\"ignore\")\n",
    "import os\n",
    "from aitextgen import aitextgen"
   ]
  },
  {
   "cell_type": "code",
   "execution_count": 2,
   "metadata": {
    "collapsed": false
   },
   "outputs": [
   ],
   "source": [
    "project_path = os.getcwd()"
   ]
  },
  {
   "cell_type": "code",
   "execution_count": 7,
   "metadata": {
    "collapsed": false
   },
   "outputs": [
   ],
   "source": [
    "ai = aitextgen(model_folder=\"nlp_genre_models/superhero_files\", to_gpu=True)"
   ]
  },
  {
   "cell_type": "code",
   "execution_count": 9,
   "metadata": {
    "collapsed": false
   },
   "outputs": [
    {
     "name": "stdout",
     "output_type": "stream",
     "text": [
      ".  At a post-up New York City. Fantastic offered, Professor Power Stone, and his team is revealed to be the U.S.H.Hulk come with his home and have been banished from a second time in hiding. Manhattan for her daughter, where he gave him return to a time with Emma has been found that he is prior. With no concern for her costume changed. \"\n",
      "\" At New York City, he discovers that he had been developing superhuman mutant children. He discovers his super humans using S.H.I.E.D.Norman Osborn British agent Phil Coulson, he learns that one of the connection between them. He and his super-sacr, attacking criminals who has not before a full-like humanoid shape-like humanoid shape-born, in stom, and the captured and ultimately shut down, and his parents supported Tony Stark Industries, Stark at eliminating Osborn (who has an abandoned building at a more powerful, and has no more powerful version of the connection between himself in order to the control of the hands of the New York City, S.H.H.H.H.E.E.H.E.E.E.E.E.E.E.E.\n"
     ]
    }
   ],
   "source": [
    "ai.generate()"
   ]
  },
  {
   "cell_type": "code",
   "execution_count": 15,
   "metadata": {
    "collapsed": false
   },
   "outputs": [
   ],
   "source": [
    "def genre_text_generation(genre):\n",
    "\n",
    "    if genre == 'action':\n",
    "        file_dest = \"nlp_genre_models/action_files\"\n",
    "\n",
    "    if genre == 'drama':\n",
    "        file_dest = \"nlp_genre_models/drama_files\"\n",
    "\n",
    "    if genre == 'scifi':\n",
    "        file_dest = \"nlp_genre_models/scifi_files\"\n",
    "\n",
    "    if genre == 'thriller':\n",
    "        file_dest = \"nlp_genre_models/thriller_files\"\n",
    "\n",
    "    if genre == 'horror':\n",
    "        file_dest = \"nlp_genre_models/horror_files\"\n",
    "\n",
    "    if genre == 'superhero':\n",
    "        file_dest = \"nlp_genre_models/superhero_files\"\n",
    "\n",
    "    return file_dest\n"
   ]
  },
  {
   "cell_type": "code",
   "execution_count": 22,
   "metadata": {
    "collapsed": false
   },
   "outputs": [
    {
     "name": "stdout",
     "output_type": "stream",
     "text": [
      "nlp_genre_models/horror_files\n"
     ]
    }
   ],
   "source": [
    "model_dest = genre_text_generation('horror')\n",
    "print(model_dest)"
   ]
  },
  {
   "cell_type": "code",
   "execution_count": 23,
   "metadata": {
    "collapsed": false
   },
   "outputs": [
   ],
   "source": [
    "ai = aitextgen(model_folder = model_dest, to_gpu=True)"
   ]
  },
  {
   "cell_type": "code",
   "execution_count": 24,
   "metadata": {
    "collapsed": false
   },
   "outputs": [
    {
     "name": "stdout",
     "output_type": "stream",
     "text": [
      "members of the group, including Tony, are shown to be performing a mystical ritual. The ritual is actually run by Tony, who is also performing the exorcism. Tony is stepping in to see if the ritual will be over. Tony is then paralyzed by an apparition of a manlike hand emerging from a bottle of milk, and then removes the mask to show a vision of a woman he believes to be his mother, who is actually alive but cold to the touch. Tony is then paralyzed by the neck wound and sent to an asylum.  The doctor believes that the exorcism will be successful, but Tony, still possessed by the hand, reverts to his original self. When Tony reverts to his original self, he is not only not being nice, but also has his mind darkened, and also has his head encased in a crucifix. The professor and Aman and Tony also have a mutual desire to be together, but Tony is secretly jealous of his feelings for the professor. The professor's kindness to Tony is aroused and kept in a reserve play, where Tony rages a scene from a medical supply man who is not under the influence of the hand.  On the ex- clinic, Tony kills the professor by trying to frighten the court and the professor by releasing the hooker's sharpened bandages from his rival's chin. He then proceeds to beat and kill Tony, but is scolded by the professor and the doctor. The professor and Aman also beat the professor to death while also keeping Tony and Tony in the heavy cutting.  During the final sequence, Tony kills the professor by trying to frighten the court, causing the hooker to strike his rival's hook and hand to crush Tony. After a scuffle in which Tony tries to flee with a hook and hand, Tony grabs a crucifix and clubs the professor to death with it. After a scuffle in which Tony is physically watching Tony throughout the film, it is implied that Tony kills the professor by trying to frighten him into a swing, and then sends him to hell. \"\n",
      "\" In 1948 in South Korea, a man is painting a portrait of a woman with a mole under her left eye. The man becomes very depressed and depressed because the intensity of the work in the city has fluctuated over the entire country since the murder. The daughter is so distressed by the her mother that her father has to leave. The father is forced to leave, abandoning the mother's husband, Jeong, who has been living there. Jeong has been sent to a place where a young girl has been sighting, so Varun is invited to come to her. The girl comes to be unrequited because she isn't old and looks very much like a woman. She then has a conversation about her mother's love for Jeong, telling her that Jeong is really Jeong's mother. Jeong is unhappy to leave, but gets driven to her room when she sees the young girl being tormented by evil spirits. The evil spirit tells Jeong that Jeong is her mother.  One year later, in 1999, Jeong is sent to a mental institute where she is treated by Dr. Yoo-deok, who tells her that Jeong is dead and that Jeong has been talking to Jeong for centuries. Jeong is very much alive and well; she tells So-Hee and So-Hee that Jeong is really Jeong. So-Hee has Jeong's transplanted into an old cell in the city. So-Hee has Jeong's transplanted into an old cell in the city. So-Hee has taken Jeong, but kept Jeong in the back because of his So-Hee getting older. So-Hee has Jeong's transplanted into an old cell in the city, where a mother is kept. So-Hee has Jeong's transplanted into an old cell in the back. So-Hee goes through the different window into the room.  The next year, So-Hee and So-Hee are talking to Jeong who says that Jeong is really Jeong. So-Hee has Jeong's transplanted into an old cell in the backyard. So-Hee has Jeong's transplanted into an old cell in the backyard. So-Hee goes through the night. So-Hee has Jeong's transplanted into an old cell in the backyard. The door is very loud, but no one will ever go to open it. So-Hee goes through the night again.  So-Hee goes through the gate. So-Hee goes through the first floor and sees a goodby shattering with muddy feet. The next morning, So-Hee enters the house. Jeong and So-Hee are talking when So-Hee appears. So-Hee thanks So-\n"
     ]
    }
   ],
   "source": [
    "ai.generate(max_length = 1000)"
   ]
  },
  {
   "cell_type": "code",
   "execution_count": 0,
   "metadata": {
    "collapsed": false
   },
   "outputs": [
   ],
   "source": [
   ]
  }
 ],
 "metadata": {
  "kernelspec": {
   "display_name": "Python (my_env_one)",
   "language": "python",
   "metadata": {
    "debugger": true
   },
   "name": "my_env_one",
   "resource_dir": "/projects/a98eddba-9703-4202-bb23-6694dfea1d2c/.local/share/jupyter/kernels/my_env_one"
  },
  "language_info": {
   "codemirror_mode": {
    "name": "ipython",
    "version": 3
   },
   "file_extension": ".py",
   "mimetype": "text/x-python",
   "name": "python",
   "nbconvert_exporter": "python",
   "pygments_lexer": "ipython3",
   "version": "3.8.13"
  }
 },
 "nbformat": 4,
 "nbformat_minor": 4
}