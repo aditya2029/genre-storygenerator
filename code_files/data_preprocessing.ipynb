{
 "cells": [
  {
   "cell_type": "code",
   "execution_count": 1,
   "metadata": {
    "collapsed": false
   },
   "outputs": [
   ],
   "source": [
    "import pandas as pd\n",
    "import numpy as np\n",
    "import matplotlib.pyplot as plt\n",
    "import seaborn as sns\n",
    "import warnings\n",
    "warnings.filterwarnings(\"ignore\")"
   ]
  },
  {
   "cell_type": "code",
   "execution_count": 6,
   "metadata": {
    "collapsed": false
   },
   "outputs": [
    {
     "name": "stderr",
     "output_type": "stream",
     "text": [
      "Skipping line 4239: Expected 7 fields in line 4239, saw 9. Error could possibly be due to quotes being ignored when a multi-char delimiter is used.\n",
      "Skipping line 8947: Expected 7 fields in line 8947, saw 8. Error could possibly be due to quotes being ignored when a multi-char delimiter is used.\n",
      "Skipping line 9729: Expected 7 fields in line 9729, saw 9. Error could possibly be due to quotes being ignored when a multi-char delimiter is used.\n",
      "Skipping line 10284: Expected 7 fields in line 10284, saw 9. Error could possibly be due to quotes being ignored when a multi-char delimiter is used.\n",
      "Skipping line 12474: Expected 7 fields in line 12474, saw 10. Error could possibly be due to quotes being ignored when a multi-char delimiter is used.\n",
      "Skipping line 15108: Expected 7 fields in line 15108, saw 9. Error could possibly be due to quotes being ignored when a multi-char delimiter is used.\n"
     ]
    }
   ],
   "source": [
    "df = pd.read_csv('6_genre_clean_training_data.txt', sep = r\"<|>\", error_bad_lines = False, header = None)"
   ]
  },
  {
   "cell_type": "code",
   "execution_count": 7,
   "metadata": {
    "collapsed": false
   },
   "outputs": [
    {
     "data": {
      "text/plain": [
       "Int64Index([0, 1, 2, 3, 4, 5, 6], dtype='int64')"
      ]
     },
     "execution_count": 7,
     "metadata": {
     },
     "output_type": "execute_result"
    }
   ],
   "source": [
    "df.columns"
   ]
  },
  {
   "cell_type": "code",
   "execution_count": 8,
   "metadata": {
    "collapsed": false
   },
   "outputs": [
   ],
   "source": [
    "df.drop(columns = [0, 1, 2, 5, 6], inplace = True)\n",
    "df.rename(columns = {3:'genre', 4:'story'}, inplace = True)"
   ]
  },
  {
   "cell_type": "code",
   "execution_count": 9,
   "metadata": {
    "collapsed": false
   },
   "outputs": [
    {
     "data": {
      "text/html": [
       "<div>\n",
       "<style scoped>\n",
       "    .dataframe tbody tr th:only-of-type {\n",
       "        vertical-align: middle;\n",
       "    }\n",
       "\n",
       "    .dataframe tbody tr th {\n",
       "        vertical-align: top;\n",
       "    }\n",
       "\n",
       "    .dataframe thead th {\n",
       "        text-align: right;\n",
       "    }\n",
       "</style>\n",
       "<table border=\"1\" class=\"dataframe\">\n",
       "  <thead>\n",
       "    <tr style=\"text-align: right;\">\n",
       "      <th></th>\n",
       "      <th>genre</th>\n",
       "      <th>story</th>\n",
       "    </tr>\n",
       "  </thead>\n",
       "  <tbody>\n",
       "    <tr>\n",
       "      <th>0</th>\n",
       "      <td>action</td>\n",
       "      <td>Prince (Vivek Oberoi) is a sharp and intellig...</td>\n",
       "    </tr>\n",
       "    <tr>\n",
       "      <th>1</th>\n",
       "      <td>drama</td>\n",
       "      <td>Life is going along smoothly for Jeff and Mar...</td>\n",
       "    </tr>\n",
       "    <tr>\n",
       "      <th>2</th>\n",
       "      <td>drama</td>\n",
       "      <td>A young girl suddenly finds herself wealthy, ...</td>\n",
       "    </tr>\n",
       "    <tr>\n",
       "      <th>3</th>\n",
       "      <td>drama</td>\n",
       "      <td>Varghese (Mohanlal) is a Kalari master. Shyam...</td>\n",
       "    </tr>\n",
       "    <tr>\n",
       "      <th>4</th>\n",
       "      <td>thriller</td>\n",
       "      <td>When Adrien Williams is released from a menta...</td>\n",
       "    </tr>\n",
       "  </tbody>\n",
       "</table>\n",
       "</div>"
      ],
      "text/plain": [
       "      genre                                              story\n",
       "0    action   Prince (Vivek Oberoi) is a sharp and intellig...\n",
       "1     drama   Life is going along smoothly for Jeff and Mar...\n",
       "2     drama   A young girl suddenly finds herself wealthy, ...\n",
       "3     drama   Varghese (Mohanlal) is a Kalari master. Shyam...\n",
       "4  thriller   When Adrien Williams is released from a menta..."
      ]
     },
     "execution_count": 9,
     "metadata": {
     },
     "output_type": "execute_result"
    }
   ],
   "source": [
    "df.head()"
   ]
  },
  {
   "cell_type": "code",
   "execution_count": 10,
   "metadata": {
    "collapsed": false
   },
   "outputs": [
    {
     "data": {
      "text/plain": [
       "drama        19056\n",
       "action        5391\n",
       "thriller      3988\n",
       "horror        1497\n",
       "sci_fi         826\n",
       "superhero      268\n",
       "Name: genre, dtype: int64"
      ]
     },
     "execution_count": 10,
     "metadata": {
     },
     "output_type": "execute_result"
    }
   ],
   "source": [
    "df['genre'].value_counts()"
   ]
  },
  {
   "cell_type": "code",
   "execution_count": 11,
   "metadata": {
    "collapsed": false
   },
   "outputs": [
   ],
   "source": [
    "df_drama = df[df['genre'] == 'drama']\n",
    "df_action = df[df['genre'] == 'action']\n",
    "df_thriller = df[df['genre'] == 'thriller']\n",
    "df_horror = df[df['genre'] == 'horror']\n",
    "df_sci_fi = df[df['genre'] == 'sci_fi']\n",
    "df_superhero = df[df['genre'] == 'superhero']"
   ]
  },
  {
   "cell_type": "code",
   "execution_count": 12,
   "metadata": {
    "collapsed": false
   },
   "outputs": [
   ],
   "source": [
    "df_drama['story'].to_csv('train_drama.txt', index = None)\n",
    "df_action['story'].to_csv('train_action.txt', index = None)\n",
    "df_thriller['story'].to_csv('train_thriller.txt', index = None)\n",
    "df_horror['story'].to_csv('train_horror.txt', index = None)\n",
    "df_sci_fi['story'].to_csv('train_scifi.txt', index = None)\n",
    "df_superhero['story'].to_csv('train_superhero.txt', index = None)"
   ]
  },
  {
   "cell_type": "code",
   "execution_count": 0,
   "metadata": {
    "collapsed": false
   },
   "outputs": [
   ],
   "source": [
   ]
  }
 ],
 "metadata": {
  "kernelspec": {
   "display_name": "Python (my_env_one)",
   "language": "python",
   "metadata": {
    "debugger": true
   },
   "name": "my_env_one",
   "resource_dir": "/projects/a98eddba-9703-4202-bb23-6694dfea1d2c/.local/share/jupyter/kernels/my_env_one"
  },
  "language_info": {
   "codemirror_mode": {
    "name": "ipython",
    "version": 3
   },
   "file_extension": ".py",
   "mimetype": "text/x-python",
   "name": "python",
   "nbconvert_exporter": "python",
   "pygments_lexer": "ipython3",
   "version": "3.8.13"
  }
 },
 "nbformat": 4,
 "nbformat_minor": 4
}